{
 "cells": [
  {
   "cell_type": "code",
   "execution_count": 1,
   "metadata": {},
   "outputs": [],
   "source": [
    "%matplotlib inline\n",
    "import numpy as np\n",
    "from collections import namedtuple"
   ]
  },
  {
   "cell_type": "markdown",
   "metadata": {},
   "source": [
    "# Inputs"
   ]
  },
  {
   "cell_type": "markdown",
   "metadata": {},
   "source": [
    "The equations below are explained in the documentation"
   ]
  },
  {
   "cell_type": "code",
   "execution_count": 18,
   "metadata": {},
   "outputs": [],
   "source": [
    "LAMBDA_UM = 0.810 # Wavelength in um\n",
    "N = 1.0 # Refraction index\n",
    "W_10_UM = 4.0/2.0 # Beam waist radius for input beam in um\n",
    "Z_1_UM = 0.0 # Axial distance from the beam's focus for input beam in um\n",
    "W_00_UM = 4.0/2.0 # Beam waist radius for output beam in um\n",
    "Z_0_UM = 0.0 # Axial distance from the beam's focus for input beam in um\n",
    "S_UM = 0.0 # The misaligment in um\n",
    "THETA_RAD = 0 # The angle misalignment in radians\n",
    "PI = np.pi"
   ]
  },
  {
   "cell_type": "markdown",
   "metadata": {},
   "source": [
    "# Calculate $k$, $Z_{R,1}$ and $Z_{R,0}$"
   ]
  },
  {
   "cell_type": "code",
   "execution_count": 19,
   "metadata": {},
   "outputs": [],
   "source": [
    "def calculate_z_r(k, w_x0):\n",
    "    return k*(w_x0**2)/2"
   ]
  },
  {
   "cell_type": "code",
   "execution_count": 20,
   "metadata": {},
   "outputs": [],
   "source": [
    "k_rad_per_um = 2*PI*N/LAMBDA_UM # Wave number in radians per um\n",
    "z_r1_um = calculate_z_r(k_rad_per_um, W_10_UM)\n",
    "z_r0_um = calculate_z_r(k_rad_per_um, W_00_UM)"
   ]
  },
  {
   "cell_type": "markdown",
   "metadata": {},
   "source": [
    "# Calculate beam parameters"
   ]
  },
  {
   "cell_type": "code",
   "execution_count": 21,
   "metadata": {},
   "outputs": [],
   "source": [
    "def calculate_R(z, z_r):\n",
    "    if z == 0:\n",
    "        return np.inf\n",
    "    else:\n",
    "        return z*(1 + np.divide(z_r,z)**2)\n",
    "def calculate_w(w_x0, z, z_r):\n",
    "    return w_x0*np.sqrt(1 + np.divide(z, z_r)**2)"
   ]
  },
  {
   "cell_type": "code",
   "execution_count": 22,
   "metadata": {},
   "outputs": [],
   "source": [
    "R_1_um = calculate_R(Z_1_UM, z_r1_um)\n",
    "R_0_um = calculate_R(Z_0_UM, z_r0_um)\n",
    "w_1_um = calculate_w(W_10_UM, Z_1_UM, z_r1_um)\n",
    "w_0_um = calculate_w(W_00_UM, Z_0_UM, z_r0_um)\n",
    "BeamParameters = namedtuple('BeamParameters', ['w', 'R'])\n",
    "BParam1_um = BeamParameters(w_1_um, R_1_um)\n",
    "BParam0_um = BeamParameters(w_0_um, R_0_um)"
   ]
  },
  {
   "cell_type": "markdown",
   "metadata": {},
   "source": [
    "# Calculate $K$"
   ]
  },
  {
   "cell_type": "code",
   "execution_count": 23,
   "metadata": {},
   "outputs": [],
   "source": [
    "K = 4.0/(\n",
    "    (w_1_um*w_0_um)**2*(\n",
    "        (1/w_0_um**2 + 1/w_1_um**2)**2 - \n",
    "        (k_rad_per_um*(np.divide(1, R_1_um) - np.divide(1, R_0_um))/2)**2\n",
    "        )\n",
    "    )"
   ]
  },
  {
   "cell_type": "markdown",
   "metadata": {},
   "source": [
    "# Calculate $\\eta$"
   ]
  },
  {
   "cell_type": "code",
   "execution_count": 24,
   "metadata": {},
   "outputs": [],
   "source": [
    "eta = K*np.exp(\n",
    "        -K*(\n",
    "            S_UM**2/2*(\n",
    "                1/w_1_um**2 + (k_rad_per_um*w_1_um)**2/(2*R_1_um**2) +\n",
    "                1/w_0_um**2 + (k_rad_per_um*w_0_um)**2/(2*R_0_um**2)\n",
    "                )\n",
    "        ) +\n",
    "        k_rad_per_um**2/8*(\n",
    "            (THETA_RAD*w_1_um)**2 - 2*S_UM*THETA_RAD*w_1_um**2/R_1_um + \n",
    "            (THETA_RAD*w_0_um)**2 - 2*S_UM*THETA_RAD*w_0_um**2/R_0_um\\\n",
    "        )\n",
    "    )"
   ]
  },
  {
   "cell_type": "code",
   "execution_count": null,
   "metadata": {},
   "outputs": [],
   "source": []
  }
 ],
 "metadata": {
  "kernelspec": {
   "display_name": "Python 3",
   "language": "python",
   "name": "python3"
  },
  "language_info": {
   "codemirror_mode": {
    "name": "ipython",
    "version": 3
   },
   "file_extension": ".py",
   "mimetype": "text/x-python",
   "name": "python",
   "nbconvert_exporter": "python",
   "pygments_lexer": "ipython3",
   "version": "3.7.3"
  }
 },
 "nbformat": 4,
 "nbformat_minor": 4
}
